{
 "cells": [
  {
   "cell_type": "markdown",
   "metadata": {},
   "source": [
    "# Import \n"
   ]
  },
  {
   "cell_type": "code",
   "execution_count": null,
   "metadata": {},
   "outputs": [],
   "source": [
    "import clr\n",
    "clr.AddReference(\"RevitServices\")\n",
    "clr.AddReference('ProtoGeometry')\n",
    "clr.AddReference(\"RevitAPI\")\n",
    "import Autodesk.Revit.DB\n",
    "from Autodesk.Revit.DB import *\n",
    "from Autodesk.DesignScript.Geometry import *\n",
    "import RevitServices\n",
    "from RevitServices.Persistence import DocumentManager\n",
    "from RevitServices.Transactions import TransactionManager"
   ]
  },
  {
   "cell_type": "markdown",
   "metadata": {},
   "source": [
    "# Creating list of thermal conductivities to be applied\n",
    "Please, note that Thermal Resistance $R$=$\\frac{h}{C}$, $R=[\\frac{m^2 \\times K}{W}]$\\\n",
    "where $C$ - thermal conductivity , $C=[\\frac{W}{m \\times K}]$ \\\n",
    "      $h$ - thickness of an element, fixed parameter, $h=[m]$"
   ]
  },
  {
   "cell_type": "code",
   "execution_count": null,
   "metadata": {},
   "outputs": [],
   "source": [
    "FloorR=[1, 0.5, 0.25, 0.166667, 0.125, 0.1, 0.083333, 0.071429, 0.0625, 0.0555556, 0.05, 0.04]\n",
    "WallsR=[0.6, 0.3, 0.15, 0.1, 0.075, 0.06, 0.05, 0.042857, 0.0375, 0.03333, 0.03, 0.024]\n",
    "RoofR=[1, 0.5, 0.25, 0.166667, 0.125, 0.1, 0.083333, 0.071429, 0.0625, 0.0555556, 0.05, 0.04]\n",
    "\n",
    "mat=FilteredElementCollector(doc).OfCategory(BuiltInCategory.OST_Materials)\n",
    "\n",
    "materials=[]\n",
    "for m in mat:\n",
    "    materials.append(m.Name)"
   ]
  },
  {
   "cell_type": "markdown",
   "metadata": {},
   "source": [
    "# Assigning required thermal assets to variables"
   ]
  },
  {
   "cell_type": "code",
   "execution_count": null,
   "metadata": {},
   "outputs": [],
   "source": [
    "for m in mat:\n",
    "    if m.Name=='Rigid insulation':\n",
    "        Wall=doc.GetElement(m.ThermalAssetId).LookupParameter(\"Thermal Conductivity\")\n",
    "    if m.Name=='Wood Sheathing, Chipboard':\n",
    "        Roof=doc.GetElement(m.ThermalAssetId).LookupParameter(\"Thermal Conductivity\")\n",
    "    if m.Name=='Structure, Timber Joist/Rafter Layer':\n",
    "        Floor=doc.GetElement(m.ThermalAssetId).LookupParameter(\"Thermal Conductivity\")"
   ]
  },
  {
   "cell_type": "markdown",
   "metadata": {},
   "source": [
    "# Setting out gbXML export parameters"
   ]
  },
  {
   "cell_type": "code",
   "execution_count": null,
   "metadata": {},
   "outputs": [],
   "source": [
    "opt=Analysis.EnergyAnalysisDetailModelOptions()\n",
    "opt.EnergyModelType=Analysis.EnergyModelType.BuildingElement\n",
    "opt.ExportMullions=False\n",
    "opt.IncludeShadingSurfaces=False\n",
    "opt.SimplifyCurtainSystems=True\n",
    "opt.Tier=Analysis.EnergyAnalysisDetailModelTier.SecondLevelBoundaries"
   ]
  },
  {
   "cell_type": "markdown",
   "metadata": {},
   "source": [
    "# Looping over all R values combinations and creaintg a model"
   ]
  },
  {
   "cell_type": "code",
   "execution_count": null,
   "metadata": {},
   "outputs": [],
   "source": [
    "for i in range(len(FloorR)):\n",
    "    t=Transaction(doc,\"R change\")\n",
    "    t.Start()\n",
    "    Floor.Set(FloorR[i]/0.3048)\n",
    "    t.Commit()\n",
    "    t.Dispose()\n",
    "    for j in range(len(WallsR)):\n",
    "        t=Transaction(doc,\"R change\")\n",
    "        t.Start()\n",
    "        Wall.Set(WallsR[j]/0.3048)\n",
    "        t.Commit()\n",
    "        t.Dispose()\n",
    "        for k in range(len(RoofR)):\n",
    "            t=Transaction(doc,\"R change\")\n",
    "            t.Start()\n",
    "            Roof.Set(RoofR[k]/0.3048)\n",
    "            t.Commit()\n",
    "            t.Dispose()\n",
    "            c=Transaction(doc,\"model creation\")\n",
    "            c.Start()\n",
    "            model=Analysis.EnergyAnalysisDetailModel.Create(doc, opt)\n",
    "            model.TransformModel()\n",
    "            GBopt=GBXMLExportOptions()\n",
    "            GBopt.ExportEnergyModelType=ExportEnergyModelType.BuildingElement\n",
    "            doc.Export(\"C:\\Users\\Миша\\Desktop\\gbXMLs\",str(round(0.5/FloorR[i],1))+\",\"+str(round(0.3/WallsR[j],1))+\",\"+str(round(0.5/RoofR[k],1)), GBopt)\n",
    "            c.Commit()\n",
    "            c.Dispose()"
   ]
  },
  {
   "cell_type": "markdown",
   "metadata": {},
   "source": [
    "# Rotating the model, then repeating the previous step again"
   ]
  },
  {
   "cell_type": "code",
   "execution_count": null,
   "metadata": {},
   "outputs": [],
   "source": [
    "base_point=doc.GetElement('9acbc50b-e118-424e-b6dd-04f4c76cb939-0001c1fb').LookupParameter(\"Angle to True North\")\n",
    "angle=Transaction(doc,\"angle\")\n",
    "angle.Start()\n",
    "base_point.Set(45)\n",
    "angle.Commit()"
   ]
  },
  {
   "cell_type": "markdown",
   "metadata": {},
   "source": [
    "\n",
    "Since I used export of a detailed model rather than conceptual, different glazing parameters could only be applied in Green Building Studio, one by one, by means of browser automatization "
   ]
  }
 ],
 "metadata": {
  "kernelspec": {
   "display_name": "Python 3",
   "language": "python",
   "name": "python3"
  },
  "language_info": {
   "codemirror_mode": {
    "name": "ipython",
    "version": 3
   },
   "file_extension": ".py",
   "mimetype": "text/x-python",
   "name": "python",
   "nbconvert_exporter": "python",
   "pygments_lexer": "ipython3",
   "version": "3.7.6"
  }
 },
 "nbformat": 4,
 "nbformat_minor": 4
}
